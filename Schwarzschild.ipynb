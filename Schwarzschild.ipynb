{
  "nbformat": 4,
  "nbformat_minor": 0,
  "metadata": {
    "colab": {
      "provenance": [],
      "authorship_tag": "ABX9TyMBSCBNVzTo7v07BjMSbRhs",
      "include_colab_link": true
    },
    "kernelspec": {
      "name": "python3",
      "display_name": "Python 3"
    },
    "language_info": {
      "name": "python"
    }
  },
  "cells": [
    {
      "cell_type": "markdown",
      "metadata": {
        "id": "view-in-github",
        "colab_type": "text"
      },
      "source": [
        "<a href=\"https://colab.research.google.com/github/guiraposo/GRpy/blob/main/Schwarzschild.ipynb\" target=\"_parent\"><img src=\"https://colab.research.google.com/assets/colab-badge.svg\" alt=\"Open In Colab\"/></a>"
      ]
    },
    {
      "cell_type": "code",
      "execution_count": null,
      "metadata": {
        "colab": {
          "base_uri": "https://localhost:8080/"
        },
        "id": "fRg_T5G0W_OH",
        "outputId": "d9a04784-ba33-44e1-f34c-d3031a902c91"
      },
      "outputs": [
        {
          "output_type": "stream",
          "name": "stderr",
          "text": [
            "<ipython-input-3-b1d9c5eca3e6>:7: SymPyDeprecationWarning: \n",
            "\n",
            "Passing a string as the coordinate symbol name to CoordSystem is deprecated.\n",
            "Pass a Symbol with the appropriate name and assumptions instead.\n",
            "\n",
            "That is, replace t with Symbol('t', real=True).\n",
            "\n",
            "See https://docs.sympy.org/latest/explanation/active-deprecations.html#deprecated-diffgeom-mutable\n",
            "for details.\n",
            "\n",
            "This has been deprecated since SymPy version 1.7. It\n",
            "will be removed in a future version of SymPy.\n",
            "\n",
            "  coord_sys = CoordSystem('coord_sys', patch, ['t', 'r', 'theta', 'phi'])\n",
            "<ipython-input-3-b1d9c5eca3e6>:7: SymPyDeprecationWarning: \n",
            "\n",
            "Passing a string as the coordinate symbol name to CoordSystem is deprecated.\n",
            "Pass a Symbol with the appropriate name and assumptions instead.\n",
            "\n",
            "That is, replace r with Symbol('r', real=True).\n",
            "\n",
            "See https://docs.sympy.org/latest/explanation/active-deprecations.html#deprecated-diffgeom-mutable\n",
            "for details.\n",
            "\n",
            "This has been deprecated since SymPy version 1.7. It\n",
            "will be removed in a future version of SymPy.\n",
            "\n",
            "  coord_sys = CoordSystem('coord_sys', patch, ['t', 'r', 'theta', 'phi'])\n",
            "<ipython-input-3-b1d9c5eca3e6>:7: SymPyDeprecationWarning: \n",
            "\n",
            "Passing a string as the coordinate symbol name to CoordSystem is deprecated.\n",
            "Pass a Symbol with the appropriate name and assumptions instead.\n",
            "\n",
            "That is, replace theta with Symbol('theta', real=True).\n",
            "\n",
            "See https://docs.sympy.org/latest/explanation/active-deprecations.html#deprecated-diffgeom-mutable\n",
            "for details.\n",
            "\n",
            "This has been deprecated since SymPy version 1.7. It\n",
            "will be removed in a future version of SymPy.\n",
            "\n",
            "  coord_sys = CoordSystem('coord_sys', patch, ['t', 'r', 'theta', 'phi'])\n",
            "<ipython-input-3-b1d9c5eca3e6>:7: SymPyDeprecationWarning: \n",
            "\n",
            "Passing a string as the coordinate symbol name to CoordSystem is deprecated.\n",
            "Pass a Symbol with the appropriate name and assumptions instead.\n",
            "\n",
            "That is, replace phi with Symbol('phi', real=True).\n",
            "\n",
            "See https://docs.sympy.org/latest/explanation/active-deprecations.html#deprecated-diffgeom-mutable\n",
            "for details.\n",
            "\n",
            "This has been deprecated since SymPy version 1.7. It\n",
            "will be removed in a future version of SymPy.\n",
            "\n",
            "  coord_sys = CoordSystem('coord_sys', patch, ['t', 'r', 'theta', 'phi'])\n"
          ]
        },
        {
          "output_type": "execute_result",
          "data": {
            "text/plain": [
              "[[-A(r), 0, 0, 0],\n",
              " [0, B(r), 0, 0],\n",
              " [0, 0, r**2, 0],\n",
              " [0, 0, 0, sin(theta)**2*r**2]]"
            ]
          },
          "metadata": {},
          "execution_count": 3
        }
      ],
      "source": [
        "from sympy import symbols, Function, sin, diag\n",
        "from sympy.diffgeom import Manifold, Patch, CoordSystem\n",
        "\n",
        "# Define the manifold and coordinate system\n",
        "m = Manifold('M', 4)\n",
        "patch = Patch('P', m)\n",
        "coord_sys = CoordSystem('coord_sys', patch, ['t', 'r', 'theta', 'phi'])\n",
        "\n",
        "# Define the coordinates\n",
        "t, r, theta, phi = coord_sys.coord_functions()\n",
        "\n",
        "# Define the functions A(r) and B(r)\n",
        "A = Function('A')(r)\n",
        "B = Function('B')(r)\n",
        "\n",
        "# Define the metric tensor components\n",
        "metric_tensor = diag(-A, B, r**2, r**2 * sin(theta)**2).tolist()\n",
        "\n",
        "metric_tensor\n"
      ]
    },
    {
      "cell_type": "code",
      "source": [],
      "metadata": {
        "id": "lzs5LjwoX_6Y"
      },
      "execution_count": null,
      "outputs": []
    }
  ]
}