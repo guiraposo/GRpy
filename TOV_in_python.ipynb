{
  "nbformat": 4,
  "nbformat_minor": 0,
  "metadata": {
    "colab": {
      "provenance": [],
      "authorship_tag": "ABX9TyNCRBDObl+HaC6y7YGjjEaK",
      "include_colab_link": true
    },
    "kernelspec": {
      "name": "python3",
      "display_name": "Python 3"
    },
    "language_info": {
      "name": "python"
    }
  },
  "cells": [
    {
      "cell_type": "markdown",
      "metadata": {
        "id": "view-in-github",
        "colab_type": "text"
      },
      "source": [
        "<a href=\"https://colab.research.google.com/github/guiraposo/GRpy/blob/main/TOV_in_python.ipynb\" target=\"_parent\"><img src=\"https://colab.research.google.com/assets/colab-badge.svg\" alt=\"Open In Colab\"/></a>"
      ]
    },
    {
      "cell_type": "code",
      "execution_count": 20,
      "metadata": {
        "id": "LeTcKt0hdSDN",
        "outputId": "c3d15935-01d1-4bdf-ec7a-ec876a001173",
        "colab": {
          "base_uri": "https://localhost:8080/"
        }
      },
      "outputs": [
        {
          "output_type": "stream",
          "name": "stdout",
          "text": [
            "Requirement already satisfied: sympy in /usr/local/lib/python3.10/dist-packages (1.12)\n",
            "Requirement already satisfied: mpmath>=0.19 in /usr/local/lib/python3.10/dist-packages (from sympy) (1.3.0)\n",
            "fatal: destination path 'GRpy' already exists and is not an empty directory.\n"
          ]
        }
      ],
      "source": [
        "!pip install sympy\n",
        "!git clone https://github.com/guiraposo/GRpy"
      ]
    },
    {
      "cell_type": "code",
      "source": [
        "import sys\n",
        "sys.path.insert(0,'/content/GRpy')"
      ],
      "metadata": {
        "id": "X4AjpoU6-JT5"
      },
      "execution_count": 21,
      "outputs": []
    },
    {
      "cell_type": "code",
      "source": [
        "import sympy as sp\n",
        "import GR_Tensors  as grt"
      ],
      "metadata": {
        "id": "V4aQ0Pq_hMi3"
      },
      "execution_count": 19,
      "outputs": []
    },
    {
      "cell_type": "code",
      "source": [
        "def create_symbols():\n",
        "    # Definition of spacetime coordinates\n",
        "    t, theta, phi = sp.symbols('t theta phi', reals=True) #time, and angular coodinates\n",
        "    r = sp.symbols('r', positive=True) # radial coordinate is positive always\n",
        "\n",
        "    # Definition of other symbolic parameters that are relevant\n",
        "    M = sp.symbols('M', positive=True) # Mass of the star or compact object\n",
        "    radius = sp.symbols('radius', positive=True) # Radius of the star or compact object.\n",
        "    return t, theta, phi, r, M, radius\n",
        "\n",
        "def define_functions(r):\n",
        "    alpha = sp.Function('alpha')(r) # relativistic gravitational potential\n",
        "    m = sp.Function('m')(r)         # mass function\n",
        "    rho = sp.Function('rho')(r)     # Energy density\n",
        "    p = sp.Function('p')(r)         # Pressure\n",
        "    return alpha, m, rho, p\n",
        "\n",
        "def metric_tensor(r, theta, alpha, m):\n",
        "    g = sp.Matrix([[- sp.exp(2*alpha), 0, 0, 0],\n",
        "                   [0, (1 - 2*m/r)**(-1), 0, 0],\n",
        "                   [0, 0, r**2, 0],\n",
        "                   [0, 0, 0, r**2 * sp.sin(theta)**2]]) #Spherically symmetric line element\n",
        "    return g\n",
        "\n",
        "def four_velocity(g):\n",
        "    u_t = -sp.sqrt(-g[0, 0])  # Time component of the four-velocity, assuming normalization\n",
        "    u = [u_t, 0, 0, 0]  # Four-velocity components in static spacetime\n",
        "    return u\n",
        "\n",
        "# Main script\n",
        "t, theta, phi, r, M, radius = create_symbols() # Create coordinates and other important symbols\n",
        "alpha, m, rho, p = define_functions(r) # Create function for the metric and for the matter\n",
        "g = metric_tensor(r, theta, alpha, m)  # Covariant metric tensor\n",
        "u = four_velocity(g)                   # Contravariant 4 - velocity\n"
      ],
      "metadata": {
        "id": "dqnfncWbCz6M"
      },
      "execution_count": 4,
      "outputs": []
    },
    {
      "cell_type": "code",
      "source": [
        "t, theta, phi, r, M, radius = create_symbols() # Create coordinates and other important symbols\n",
        "alpha, m, rho, p = define_functions(r) # Create function for the metric and for the matter\n",
        "g = metric_tensor(r, theta, alpha, m)  # Covariant metric tensor\n",
        "u = four_velocity(g)                   # Contravariant 4 - velocity\n"
      ],
      "metadata": {
        "id": "kePWFqfv5d5l"
      },
      "execution_count": 5,
      "outputs": []
    },
    {
      "cell_type": "code",
      "source": [
        "coords = [t, r, theta, phi]  # Assuming these are your coordinates\n",
        "christoffel_symbols_g = grt.christoffel_symbols(g, coords)\n",
        "riemann_tensor_g = grt.riemann_tensor(christoffel_symbols_g, coords)\n",
        "ricci_tensor_g = grt.ricci_tensor(riemann_tensor_g, coords)\n",
        "ricci_scalar_g = grt.ricci_scalar(ricci_tensor_g, g)\n",
        "einstein_tensor_g = grt.einstein_tensor(ricci_tensor_g, ricci_scalar_g, g)\n",
        "Tdd_g = grt.stress_energy_tensor_perfect_fluid(rho, p, u, g)\n",
        "einstein_eqs_g = grt.einsteins_equations(einstein_tensor_g, Tdd_g, g)"
      ],
      "metadata": {
        "id": "TAgQClP3hYiR"
      },
      "execution_count": 6,
      "outputs": []
    },
    {
      "cell_type": "code",
      "source": [
        "alpha_test = 1/2 * sp.log(1 - 2*M / r)\n",
        "m_test = M\n",
        "rho_test = 0\n",
        "p_test = 0\n",
        "christoffel_symbols_substituted = [[[\n",
        "    sp.simplify(symbol.subs({alpha: alpha_test, m: m_test}))\n",
        "    for symbol in row]\n",
        "    for row in matrix]\n",
        "    for matrix in christoffel_symbols_g]\n"
      ],
      "metadata": {
        "id": "uQiZypSwj9oL"
      },
      "execution_count": 7,
      "outputs": []
    },
    {
      "cell_type": "code",
      "source": [
        "sol1 = sp.solve([einstein_eqs_g[1,1], einstein_eqs_g[0,0]] ,(sp.diff(alpha, r),sp.diff(m, r)))\n",
        "print(sol1)"
      ],
      "metadata": {
        "colab": {
          "base_uri": "https://localhost:8080/"
        },
        "id": "JzZe1kN5L04q",
        "outputId": "8cee5e2a-c319-41a6-b154-ff412951c3dc"
      },
      "execution_count": 27,
      "outputs": [
        {
          "output_type": "stream",
          "name": "stdout",
          "text": [
            "{Derivative(alpha(r), r): 4*pi*r**3*p(r)/(r**2 - 2*r*m(r)) + m(r)/(r**2 - 2*r*m(r)), Derivative(m(r), r): 4*pi*r**2*rho(r)}\n"
          ]
        }
      ]
    },
    {
      "cell_type": "code",
      "source": [
        "sol1[sp.diff(alpha, r)]"
      ],
      "metadata": {
        "id": "HI3eBto_L0zq",
        "outputId": "4fbfa92f-cf2c-4648-fb01-05e23ea294aa",
        "colab": {
          "base_uri": "https://localhost:8080/",
          "height": 58
        }
      },
      "execution_count": 30,
      "outputs": [
        {
          "output_type": "execute_result",
          "data": {
            "text/plain": [
              "4*pi*r**3*p(r)/(r**2 - 2*r*m(r)) + m(r)/(r**2 - 2*r*m(r))"
            ],
            "text/latex": "$\\displaystyle \\frac{4 \\pi r^{3} p{\\left(r \\right)}}{r^{2} - 2 r m{\\left(r \\right)}} + \\frac{m{\\left(r \\right)}}{r^{2} - 2 r m{\\left(r \\right)}}$"
          },
          "metadata": {},
          "execution_count": 30
        }
      ]
    },
    {
      "cell_type": "code",
      "source": [
        "sp.simplify(sp.simplify(ricci_scalar_g.subs({alpha: alpha_test, m: m_test})))"
      ],
      "metadata": {
        "colab": {
          "base_uri": "https://localhost:8080/",
          "height": 37
        },
        "id": "bDhbmX83u_PQ",
        "outputId": "7691846f-1ad2-47ca-cca3-52ccdead0568"
      },
      "execution_count": null,
      "outputs": [
        {
          "output_type": "execute_result",
          "data": {
            "text/plain": [
              "0"
            ],
            "text/latex": "$\\displaystyle 0$"
          },
          "metadata": {},
          "execution_count": 159
        }
      ]
    },
    {
      "cell_type": "code",
      "source": [
        "sp.simplify(sp.simplify(einstein_tensor_g.subs({alpha: alpha_test, m: m_test})))"
      ],
      "metadata": {
        "colab": {
          "base_uri": "https://localhost:8080/",
          "height": 99
        },
        "id": "wlquRG0avHdF",
        "outputId": "8264c711-8123-4ac6-9f79-18a8059c6573"
      },
      "execution_count": null,
      "outputs": [
        {
          "output_type": "execute_result",
          "data": {
            "text/plain": [
              "Matrix([\n",
              "[0, 0, 0, 0],\n",
              "[0, 0, 0, 0],\n",
              "[0, 0, 0, 0],\n",
              "[0, 0, 0, 0]])"
            ],
            "text/latex": "$\\displaystyle \\left[\\begin{matrix}0 & 0 & 0 & 0\\\\0 & 0 & 0 & 0\\\\0 & 0 & 0 & 0\\\\0 & 0 & 0 & 0\\end{matrix}\\right]$"
          },
          "metadata": {},
          "execution_count": 160
        }
      ]
    },
    {
      "cell_type": "code",
      "source": [
        "Tdd_g"
      ],
      "metadata": {
        "colab": {
          "base_uri": "https://localhost:8080/",
          "height": 99
        },
        "id": "Ff_TjATQ5BoN",
        "outputId": "1e8b3f05-bd73-4e4d-b135-86b897341251"
      },
      "execution_count": null,
      "outputs": [
        {
          "output_type": "execute_result",
          "data": {
            "text/plain": [
              "Matrix([\n",
              "[rho*A(r)**2,         0,      0,                    0],\n",
              "[          0, p*B(r)**2,      0,                    0],\n",
              "[          0,         0, p*r**2,                    0],\n",
              "[          0,         0,      0, p*r**2*sin(theta)**2]])"
            ],
            "text/latex": "$\\displaystyle \\left[\\begin{matrix}\\rho A^{2}{\\left(r \\right)} & 0 & 0 & 0\\\\0 & p B^{2}{\\left(r \\right)} & 0 & 0\\\\0 & 0 & p r^{2} & 0\\\\0 & 0 & 0 & p r^{2} \\sin^{2}{\\left(\\theta \\right)}\\end{matrix}\\right]$"
          },
          "metadata": {},
          "execution_count": 135
        }
      ]
    },
    {
      "cell_type": "code",
      "source": [
        "einstein_eqs_g"
      ],
      "metadata": {
        "colab": {
          "base_uri": "https://localhost:8080/",
          "height": 150
        },
        "id": "qvlMq7Dn7yW4",
        "outputId": "022f2243-1818-4948-818d-5a55e8fe7931"
      },
      "execution_count": null,
      "outputs": [
        {
          "output_type": "execute_result",
          "data": {
            "text/plain": [
              "Matrix([\n",
              "[(-8*pi*r**2*rho(r) + 2.0*Derivative(m(r), r))*exp(2*alpha(r))/r**2,                                                                                                                                0,                                                                                                                                                                                                                                                                                                                                             0,                                                                                                                                                                                                                                                                                                                                                                                                                    0],\n",
              "[                                                                 0, (-8.0*pi*r**3*p(r) + 2.0*r**2*Derivative(alpha(r), r) - 4.0*r*m(r)*Derivative(alpha(r), r) - 2.0*m(r))/(r**2*(1.0*r - 2.0*m(r))),                                                                                                                                                                                                                                                                                                                                             0,                                                                                                                                                                                                                                                                                                                                                                                                                    0],\n",
              "[                                                                 0,                                                                                                                                0, -8*pi*r**2*p(r) + 1.0*r**2*Derivative(alpha(r), r)**2 + 1.0*r**2*Derivative(alpha(r), (r, 2)) - 2.0*r*m(r)*Derivative(alpha(r), r)**2 - 2.0*r*m(r)*Derivative(alpha(r), (r, 2)) - 1.0*r*Derivative(alpha(r), r)*Derivative(m(r), r) + 1.0*r*Derivative(alpha(r), r) - 1.0*m(r)*Derivative(alpha(r), r) - 1.0*Derivative(m(r), r) + 1.0*m(r)/r,                                                                                                                                                                                                                                                                                                                                                                                                                    0],\n",
              "[                                                                 0,                                                                                                                                0,                                                                                                                                                                                                                                                                                                                                             0, (-8*pi*r**3*p(r) - r*(r - 2*m(r))*Derivative(alpha(r), r) - r*(-1.0*r**2*(Derivative(alpha(r), r)**2 + Derivative(alpha(r), (r, 2))) + r*(2.0*m(r)*Derivative(alpha(r), r)**2 + 2.0*m(r)*Derivative(alpha(r), (r, 2)) + 1.0*Derivative(alpha(r), r)*Derivative(m(r), r) - 2.0*Derivative(alpha(r), r)) + 3.0*m(r)*Derivative(alpha(r), r) + 2.0*Derivative(m(r), r)) + r*Derivative(m(r), r) + m(r))*sin(theta)**2/r]])"
            ],
            "text/latex": "$\\displaystyle \\left[\\begin{matrix}\\frac{\\left(- 8 \\pi r^{2} \\rho{\\left(r \\right)} + 2.0 \\frac{d}{d r} m{\\left(r \\right)}\\right) e^{2 \\alpha{\\left(r \\right)}}}{r^{2}} & 0 & 0 & 0\\\\0 & \\frac{- 8.0 \\pi r^{3} p{\\left(r \\right)} + 2.0 r^{2} \\frac{d}{d r} \\alpha{\\left(r \\right)} - 4.0 r m{\\left(r \\right)} \\frac{d}{d r} \\alpha{\\left(r \\right)} - 2.0 m{\\left(r \\right)}}{r^{2} \\cdot \\left(1.0 r - 2.0 m{\\left(r \\right)}\\right)} & 0 & 0\\\\0 & 0 & - 8 \\pi r^{2} p{\\left(r \\right)} + 1.0 r^{2} \\left(\\frac{d}{d r} \\alpha{\\left(r \\right)}\\right)^{2} + 1.0 r^{2} \\frac{d^{2}}{d r^{2}} \\alpha{\\left(r \\right)} - 2.0 r m{\\left(r \\right)} \\left(\\frac{d}{d r} \\alpha{\\left(r \\right)}\\right)^{2} - 2.0 r m{\\left(r \\right)} \\frac{d^{2}}{d r^{2}} \\alpha{\\left(r \\right)} - 1.0 r \\frac{d}{d r} \\alpha{\\left(r \\right)} \\frac{d}{d r} m{\\left(r \\right)} + 1.0 r \\frac{d}{d r} \\alpha{\\left(r \\right)} - 1.0 m{\\left(r \\right)} \\frac{d}{d r} \\alpha{\\left(r \\right)} - 1.0 \\frac{d}{d r} m{\\left(r \\right)} + \\frac{1.0 m{\\left(r \\right)}}{r} & 0\\\\0 & 0 & 0 & \\frac{\\left(- 8 \\pi r^{3} p{\\left(r \\right)} - r \\left(r - 2 m{\\left(r \\right)}\\right) \\frac{d}{d r} \\alpha{\\left(r \\right)} - r \\left(- 1.0 r^{2} \\left(\\left(\\frac{d}{d r} \\alpha{\\left(r \\right)}\\right)^{2} + \\frac{d^{2}}{d r^{2}} \\alpha{\\left(r \\right)}\\right) + r \\left(2.0 m{\\left(r \\right)} \\left(\\frac{d}{d r} \\alpha{\\left(r \\right)}\\right)^{2} + 2.0 m{\\left(r \\right)} \\frac{d^{2}}{d r^{2}} \\alpha{\\left(r \\right)} + 1.0 \\frac{d}{d r} \\alpha{\\left(r \\right)} \\frac{d}{d r} m{\\left(r \\right)} - 2.0 \\frac{d}{d r} \\alpha{\\left(r \\right)}\\right) + 3.0 m{\\left(r \\right)} \\frac{d}{d r} \\alpha{\\left(r \\right)} + 2.0 \\frac{d}{d r} m{\\left(r \\right)}\\right) + r \\frac{d}{d r} m{\\left(r \\right)} + m{\\left(r \\right)}\\right) \\sin^{2}{\\left(\\theta \\right)}}{r}\\end{matrix}\\right]$"
          },
          "metadata": {},
          "execution_count": 161
        }
      ]
    },
    {
      "cell_type": "code",
      "source": [
        "sp.simplify(sp.simplify(einstein_eqs_g.subs({A: A_test, B: B_test, rho: rho_test, p: p_test})))"
      ],
      "metadata": {
        "colab": {
          "base_uri": "https://localhost:8080/",
          "height": 99
        },
        "id": "cTY3EAgJDWAy",
        "outputId": "a4195d55-1eba-494d-d19b-11b4e1e32d08"
      },
      "execution_count": null,
      "outputs": [
        {
          "output_type": "execute_result",
          "data": {
            "text/plain": [
              "Matrix([\n",
              "[0, 0, 0, 0],\n",
              "[0, 0, 0, 0],\n",
              "[0, 0, 0, 0],\n",
              "[0, 0, 0, 0]])"
            ],
            "text/latex": "$\\displaystyle \\left[\\begin{matrix}0 & 0 & 0 & 0\\\\0 & 0 & 0 & 0\\\\0 & 0 & 0 & 0\\\\0 & 0 & 0 & 0\\end{matrix}\\right]$"
          },
          "metadata": {},
          "execution_count": 142
        }
      ]
    }
  ]
}