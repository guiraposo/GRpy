{
  "nbformat": 4,
  "nbformat_minor": 0,
  "metadata": {
    "colab": {
      "provenance": [],
      "authorship_tag": "ABX9TyMPk3fxYD3vtfhkw4QYMmkv",
      "include_colab_link": true
    },
    "kernelspec": {
      "name": "python3",
      "display_name": "Python 3"
    },
    "language_info": {
      "name": "python"
    }
  },
  "cells": [
    {
      "cell_type": "markdown",
      "metadata": {
        "id": "view-in-github",
        "colab_type": "text"
      },
      "source": [
        "<a href=\"https://colab.research.google.com/github/guiraposo/GRpy/blob/main/TOV_in_python.ipynb\" target=\"_parent\"><img src=\"https://colab.research.google.com/assets/colab-badge.svg\" alt=\"Open In Colab\"/></a>"
      ]
    },
    {
      "cell_type": "code",
      "execution_count": null,
      "metadata": {
        "id": "LeTcKt0hdSDN"
      },
      "outputs": [],
      "source": [
        "!pip install sympy"
      ]
    },
    {
      "cell_type": "code",
      "source": [
        "import sympy as sp"
      ],
      "metadata": {
        "id": "V4aQ0Pq_hMi3"
      },
      "execution_count": 20,
      "outputs": []
    },
    {
      "cell_type": "code",
      "source": [
        "t, theta, phi= sp.symbols('t theta phi ')\n",
        "r, M = sp.symbols('r M', positive=True)\n",
        "\n",
        "alpha = sp.Function('alpha')(r)\n",
        "m = sp.Function('m')(r)\n",
        "rho = sp.Function('rho')(r)  # Energy density\n",
        "p = sp.Function('p')(r)      # Pressure\n",
        "g = sp.Matrix([[- sp.exp(2*alpha), 0, 0, 0],\n",
        "               [0, (1- 2*m/r)**(-1), 0, 0],\n",
        "               [0, 0, r**2, 0],\n",
        "               [0, 0, 0, r**2 * sp.sin(theta)**2]])\n",
        "\n",
        "u_t = -sp.sqrt(-g[0, 0])  # Time component of the four-velocity, assuming normalization\n",
        "u = [u_t, 0, 0, 0]  # Four-velocity components in static spacetime\n"
      ],
      "metadata": {
        "id": "1QgRWEV8hQhv"
      },
      "execution_count": 155,
      "outputs": []
    },
    {
      "cell_type": "code",
      "source": [
        "def christoffel_symbols(metric, coords):\n",
        "    dims = metric.shape[0]\n",
        "    christoffel = [[[0 for _ in range(dims)] for _ in range(dims)] for _ in range(dims)]\n",
        "    inv_metric = metric.inv()\n",
        "    for k in range(dims):\n",
        "        for i in range(dims):\n",
        "            for j in range(dims):\n",
        "                sum_term = 0\n",
        "                for l in range(dims):\n",
        "                    partial_1 = sp.simplify(sp.diff(metric[j, l], coords[i]))\n",
        "                    partial_2 = sp.simplify(sp.diff(metric[i, l], coords[j]))\n",
        "                    partial_3 = sp.simplify(sp.diff(metric[i, j], coords[l]))\n",
        "                    sum_term += inv_metric[k, l] * (partial_1 + partial_2 - partial_3)\n",
        "                christoffel[k][i][j] = sp.simplify(sum_term / 2)\n",
        "    return christoffel\n",
        "def riemann_tensor(christoffel, coords):\n",
        "    dims = len(coords)\n",
        "    R = [[[sp.zeros(dims, dims) for _ in range(dims)] for _ in range(dims)] for _ in range(dims)]\n",
        "    for rho in range(dims):\n",
        "        for sigma in range(dims):\n",
        "            for mu in range(dims):\n",
        "                for nu in range(dims):\n",
        "                    term1 = sp.simplify(sp.diff(christoffel[rho][nu][sigma], coords[mu]))\n",
        "                    term2 = sp.simplify(sp.diff(christoffel[rho][mu][sigma], coords[nu]))\n",
        "                    term3 = sp.simplify(sum(christoffel[rho][mu][lambda1] * christoffel[lambda1][nu][sigma] for lambda1 in range(dims)))\n",
        "                    term4 = sp.simplify(sum(christoffel[rho][nu][lambda1] * christoffel[lambda1][mu][sigma] for lambda1 in range(dims)))\n",
        "                    R[rho][sigma][mu][nu] = sp.simplify(term1 - term2 + term3 - term4)\n",
        "    return R\n",
        "def ricci_tensor(riemann, coords):\n",
        "    dims = len(coords)\n",
        "    ricci = sp.zeros(dims, dims)\n",
        "    for mu in range(dims):\n",
        "        for nu in range(dims):\n",
        "            ricci[mu, nu] = sp.simplify(sum(riemann[lambda1][mu][lambda1][nu] for lambda1 in range(dims)))\n",
        "    return ricci\n",
        "def ricci_scalar(ricci, metric):\n",
        "    inv_metric = metric.inv()\n",
        "    dims = metric.shape[0]\n",
        "    scalar = 0\n",
        "    for mu in range(dims):\n",
        "        for nu in range(dims):\n",
        "            scalar += sp.simplify(inv_metric[mu, nu] * ricci[mu, nu])\n",
        "    return sp.simplify(scalar)\n",
        "def einstein_tensor(ricci_tensor, ricci_scalar, metric):\n",
        "    dims = metric.shape[0]\n",
        "    einstein = sp.zeros(dims, dims)\n",
        "    for mu in range(dims):\n",
        "        for nu in range(dims):\n",
        "            einstein[mu, nu] = ricci_tensor[mu, nu] - 1/2 * metric[mu, nu] * ricci_scalar\n",
        "    return sp.simplify(einstein)\n",
        "def stress_energy_tensor_perfect_fluid(rho, p, u, metric):\n",
        "    dims = metric.shape[0]\n",
        "    stress_energy = sp.zeros(dims, dims)\n",
        "    for mu in range(dims):\n",
        "        for nu in range(dims):\n",
        "            stress_energy[mu, nu] = (rho + p) * u[mu] * u[nu] + p * metric[mu, nu]\n",
        "    return sp.simplify(stress_energy)\n",
        "def einsteins_equations(einstein_tensor, stress_energy_tensor_perfect_fluid, metric):\n",
        "    dims = metric.shape[0]\n",
        "    einstein_eqs = sp.zeros(dims, dims)\n",
        "    for mu in range(dims):\n",
        "        for nu in range(dims):\n",
        "            einstein_eqs[mu, nu] = einstein_tensor[mu, nu] - 8 * sp.pi * stress_energy_tensor_perfect_fluid[mu,nu]\n",
        "    # Einstein's Equations: G_{\\mu\\nu} - 8πT_{\\mu\\nu} = 0 (In geometric units)\n",
        "    # We return a tensor that should be all zeros if the equations are satisfied\n",
        "    return sp.simplify(einstein_eqs)\n"
      ],
      "metadata": {
        "id": "U1NISJA7hV0n"
      },
      "execution_count": 150,
      "outputs": []
    },
    {
      "cell_type": "code",
      "source": [
        "coords = [t, r, theta, phi]  # Assuming these are your coordinates\n",
        "christoffel_symbols_g = christoffel_symbols(g, coords)\n",
        "riemann_tensor_g = riemann_tensor(christoffel_symbols_g, coords)\n",
        "ricci_tensor_g = ricci_tensor(riemann_tensor_g, coords)\n",
        "ricci_scalar_g = ricci_scalar(ricci_tensor_g, g)\n",
        "einstein_tensor_g = einstein_tensor(ricci_tensor_g, ricci_scalar_g, g)\n",
        "Tdd_g = stress_energy_tensor_perfect_fluid(rho, p, u, g)\n",
        "einstein_eqs_g = einsteins_equations(einstein_tensor_g, Tdd_g, g)"
      ],
      "metadata": {
        "id": "TAgQClP3hYiR"
      },
      "execution_count": 156,
      "outputs": []
    },
    {
      "cell_type": "code",
      "source": [
        "alpha_test = 1/2 * sp.log(1 - 2*M / r)\n",
        "m_test = M\n",
        "rho_test = 0\n",
        "p_test = 0\n",
        "christoffel_symbols_substituted = [[[\n",
        "    sp.simplify(symbol.subs({alpha: alpha_test, m: m_test}))\n",
        "    for symbol in row]\n",
        "    for row in matrix]\n",
        "    for matrix in christoffel_symbols_g]\n"
      ],
      "metadata": {
        "id": "uQiZypSwj9oL"
      },
      "execution_count": 157,
      "outputs": []
    },
    {
      "cell_type": "code",
      "source": [
        "ricci_scalar_g"
      ],
      "metadata": {
        "colab": {
          "base_uri": "https://localhost:8080/",
          "height": 64
        },
        "id": "JzZe1kN5L04q",
        "outputId": "7445818f-3724-4b50-bb95-a960e2249cb5"
      },
      "execution_count": 158,
      "outputs": [
        {
          "output_type": "execute_result",
          "data": {
            "text/plain": [
              "-2*Derivative(alpha(r), r)**2 - 2*Derivative(alpha(r), (r, 2)) + 4*m(r)*Derivative(alpha(r), r)**2/r + 4*m(r)*Derivative(alpha(r), (r, 2))/r + 2*Derivative(alpha(r), r)*Derivative(m(r), r)/r - 4*Derivative(alpha(r), r)/r + 6*m(r)*Derivative(alpha(r), r)/r**2 + 4*Derivative(m(r), r)/r**2"
            ],
            "text/latex": "$\\displaystyle - 2 \\left(\\frac{d}{d r} \\alpha{\\left(r \\right)}\\right)^{2} - 2 \\frac{d^{2}}{d r^{2}} \\alpha{\\left(r \\right)} + \\frac{4 m{\\left(r \\right)} \\left(\\frac{d}{d r} \\alpha{\\left(r \\right)}\\right)^{2}}{r} + \\frac{4 m{\\left(r \\right)} \\frac{d^{2}}{d r^{2}} \\alpha{\\left(r \\right)}}{r} + \\frac{2 \\frac{d}{d r} \\alpha{\\left(r \\right)} \\frac{d}{d r} m{\\left(r \\right)}}{r} - \\frac{4 \\frac{d}{d r} \\alpha{\\left(r \\right)}}{r} + \\frac{6 m{\\left(r \\right)} \\frac{d}{d r} \\alpha{\\left(r \\right)}}{r^{2}} + \\frac{4 \\frac{d}{d r} m{\\left(r \\right)}}{r^{2}}$"
          },
          "metadata": {},
          "execution_count": 158
        }
      ]
    },
    {
      "cell_type": "code",
      "source": [],
      "metadata": {
        "id": "HI3eBto_L0zq"
      },
      "execution_count": null,
      "outputs": []
    },
    {
      "cell_type": "code",
      "source": [
        "sp.simplify(sp.simplify(ricci_scalar_g.subs({alpha: alpha_test, m: m_test})))"
      ],
      "metadata": {
        "colab": {
          "base_uri": "https://localhost:8080/",
          "height": 37
        },
        "id": "bDhbmX83u_PQ",
        "outputId": "7691846f-1ad2-47ca-cca3-52ccdead0568"
      },
      "execution_count": 159,
      "outputs": [
        {
          "output_type": "execute_result",
          "data": {
            "text/plain": [
              "0"
            ],
            "text/latex": "$\\displaystyle 0$"
          },
          "metadata": {},
          "execution_count": 159
        }
      ]
    },
    {
      "cell_type": "code",
      "source": [
        "sp.simplify(sp.simplify(einstein_tensor_g.subs({alpha: alpha_test, m: m_test})))"
      ],
      "metadata": {
        "colab": {
          "base_uri": "https://localhost:8080/",
          "height": 99
        },
        "id": "wlquRG0avHdF",
        "outputId": "8264c711-8123-4ac6-9f79-18a8059c6573"
      },
      "execution_count": 160,
      "outputs": [
        {
          "output_type": "execute_result",
          "data": {
            "text/plain": [
              "Matrix([\n",
              "[0, 0, 0, 0],\n",
              "[0, 0, 0, 0],\n",
              "[0, 0, 0, 0],\n",
              "[0, 0, 0, 0]])"
            ],
            "text/latex": "$\\displaystyle \\left[\\begin{matrix}0 & 0 & 0 & 0\\\\0 & 0 & 0 & 0\\\\0 & 0 & 0 & 0\\\\0 & 0 & 0 & 0\\end{matrix}\\right]$"
          },
          "metadata": {},
          "execution_count": 160
        }
      ]
    },
    {
      "cell_type": "code",
      "source": [
        "Tdd_g"
      ],
      "metadata": {
        "colab": {
          "base_uri": "https://localhost:8080/",
          "height": 99
        },
        "id": "Ff_TjATQ5BoN",
        "outputId": "1e8b3f05-bd73-4e4d-b135-86b897341251"
      },
      "execution_count": 135,
      "outputs": [
        {
          "output_type": "execute_result",
          "data": {
            "text/plain": [
              "Matrix([\n",
              "[rho*A(r)**2,         0,      0,                    0],\n",
              "[          0, p*B(r)**2,      0,                    0],\n",
              "[          0,         0, p*r**2,                    0],\n",
              "[          0,         0,      0, p*r**2*sin(theta)**2]])"
            ],
            "text/latex": "$\\displaystyle \\left[\\begin{matrix}\\rho A^{2}{\\left(r \\right)} & 0 & 0 & 0\\\\0 & p B^{2}{\\left(r \\right)} & 0 & 0\\\\0 & 0 & p r^{2} & 0\\\\0 & 0 & 0 & p r^{2} \\sin^{2}{\\left(\\theta \\right)}\\end{matrix}\\right]$"
          },
          "metadata": {},
          "execution_count": 135
        }
      ]
    },
    {
      "cell_type": "code",
      "source": [
        "einstein_eqs_g"
      ],
      "metadata": {
        "colab": {
          "base_uri": "https://localhost:8080/",
          "height": 150
        },
        "id": "qvlMq7Dn7yW4",
        "outputId": "022f2243-1818-4948-818d-5a55e8fe7931"
      },
      "execution_count": 161,
      "outputs": [
        {
          "output_type": "execute_result",
          "data": {
            "text/plain": [
              "Matrix([\n",
              "[(-8*pi*r**2*rho(r) + 2.0*Derivative(m(r), r))*exp(2*alpha(r))/r**2,                                                                                                                                0,                                                                                                                                                                                                                                                                                                                                             0,                                                                                                                                                                                                                                                                                                                                                                                                                    0],\n",
              "[                                                                 0, (-8.0*pi*r**3*p(r) + 2.0*r**2*Derivative(alpha(r), r) - 4.0*r*m(r)*Derivative(alpha(r), r) - 2.0*m(r))/(r**2*(1.0*r - 2.0*m(r))),                                                                                                                                                                                                                                                                                                                                             0,                                                                                                                                                                                                                                                                                                                                                                                                                    0],\n",
              "[                                                                 0,                                                                                                                                0, -8*pi*r**2*p(r) + 1.0*r**2*Derivative(alpha(r), r)**2 + 1.0*r**2*Derivative(alpha(r), (r, 2)) - 2.0*r*m(r)*Derivative(alpha(r), r)**2 - 2.0*r*m(r)*Derivative(alpha(r), (r, 2)) - 1.0*r*Derivative(alpha(r), r)*Derivative(m(r), r) + 1.0*r*Derivative(alpha(r), r) - 1.0*m(r)*Derivative(alpha(r), r) - 1.0*Derivative(m(r), r) + 1.0*m(r)/r,                                                                                                                                                                                                                                                                                                                                                                                                                    0],\n",
              "[                                                                 0,                                                                                                                                0,                                                                                                                                                                                                                                                                                                                                             0, (-8*pi*r**3*p(r) - r*(r - 2*m(r))*Derivative(alpha(r), r) - r*(-1.0*r**2*(Derivative(alpha(r), r)**2 + Derivative(alpha(r), (r, 2))) + r*(2.0*m(r)*Derivative(alpha(r), r)**2 + 2.0*m(r)*Derivative(alpha(r), (r, 2)) + 1.0*Derivative(alpha(r), r)*Derivative(m(r), r) - 2.0*Derivative(alpha(r), r)) + 3.0*m(r)*Derivative(alpha(r), r) + 2.0*Derivative(m(r), r)) + r*Derivative(m(r), r) + m(r))*sin(theta)**2/r]])"
            ],
            "text/latex": "$\\displaystyle \\left[\\begin{matrix}\\frac{\\left(- 8 \\pi r^{2} \\rho{\\left(r \\right)} + 2.0 \\frac{d}{d r} m{\\left(r \\right)}\\right) e^{2 \\alpha{\\left(r \\right)}}}{r^{2}} & 0 & 0 & 0\\\\0 & \\frac{- 8.0 \\pi r^{3} p{\\left(r \\right)} + 2.0 r^{2} \\frac{d}{d r} \\alpha{\\left(r \\right)} - 4.0 r m{\\left(r \\right)} \\frac{d}{d r} \\alpha{\\left(r \\right)} - 2.0 m{\\left(r \\right)}}{r^{2} \\cdot \\left(1.0 r - 2.0 m{\\left(r \\right)}\\right)} & 0 & 0\\\\0 & 0 & - 8 \\pi r^{2} p{\\left(r \\right)} + 1.0 r^{2} \\left(\\frac{d}{d r} \\alpha{\\left(r \\right)}\\right)^{2} + 1.0 r^{2} \\frac{d^{2}}{d r^{2}} \\alpha{\\left(r \\right)} - 2.0 r m{\\left(r \\right)} \\left(\\frac{d}{d r} \\alpha{\\left(r \\right)}\\right)^{2} - 2.0 r m{\\left(r \\right)} \\frac{d^{2}}{d r^{2}} \\alpha{\\left(r \\right)} - 1.0 r \\frac{d}{d r} \\alpha{\\left(r \\right)} \\frac{d}{d r} m{\\left(r \\right)} + 1.0 r \\frac{d}{d r} \\alpha{\\left(r \\right)} - 1.0 m{\\left(r \\right)} \\frac{d}{d r} \\alpha{\\left(r \\right)} - 1.0 \\frac{d}{d r} m{\\left(r \\right)} + \\frac{1.0 m{\\left(r \\right)}}{r} & 0\\\\0 & 0 & 0 & \\frac{\\left(- 8 \\pi r^{3} p{\\left(r \\right)} - r \\left(r - 2 m{\\left(r \\right)}\\right) \\frac{d}{d r} \\alpha{\\left(r \\right)} - r \\left(- 1.0 r^{2} \\left(\\left(\\frac{d}{d r} \\alpha{\\left(r \\right)}\\right)^{2} + \\frac{d^{2}}{d r^{2}} \\alpha{\\left(r \\right)}\\right) + r \\left(2.0 m{\\left(r \\right)} \\left(\\frac{d}{d r} \\alpha{\\left(r \\right)}\\right)^{2} + 2.0 m{\\left(r \\right)} \\frac{d^{2}}{d r^{2}} \\alpha{\\left(r \\right)} + 1.0 \\frac{d}{d r} \\alpha{\\left(r \\right)} \\frac{d}{d r} m{\\left(r \\right)} - 2.0 \\frac{d}{d r} \\alpha{\\left(r \\right)}\\right) + 3.0 m{\\left(r \\right)} \\frac{d}{d r} \\alpha{\\left(r \\right)} + 2.0 \\frac{d}{d r} m{\\left(r \\right)}\\right) + r \\frac{d}{d r} m{\\left(r \\right)} + m{\\left(r \\right)}\\right) \\sin^{2}{\\left(\\theta \\right)}}{r}\\end{matrix}\\right]$"
          },
          "metadata": {},
          "execution_count": 161
        }
      ]
    },
    {
      "cell_type": "code",
      "source": [
        "sp.simplify(sp.simplify(einstein_eqs_g.subs({A: A_test, B: B_test, rho: rho_test, p: p_test})))"
      ],
      "metadata": {
        "colab": {
          "base_uri": "https://localhost:8080/",
          "height": 99
        },
        "id": "cTY3EAgJDWAy",
        "outputId": "a4195d55-1eba-494d-d19b-11b4e1e32d08"
      },
      "execution_count": 142,
      "outputs": [
        {
          "output_type": "execute_result",
          "data": {
            "text/plain": [
              "Matrix([\n",
              "[0, 0, 0, 0],\n",
              "[0, 0, 0, 0],\n",
              "[0, 0, 0, 0],\n",
              "[0, 0, 0, 0]])"
            ],
            "text/latex": "$\\displaystyle \\left[\\begin{matrix}0 & 0 & 0 & 0\\\\0 & 0 & 0 & 0\\\\0 & 0 & 0 & 0\\\\0 & 0 & 0 & 0\\end{matrix}\\right]$"
          },
          "metadata": {},
          "execution_count": 142
        }
      ]
    }
  ]
}