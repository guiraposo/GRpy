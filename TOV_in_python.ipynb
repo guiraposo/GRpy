{
  "nbformat": 4,
  "nbformat_minor": 0,
  "metadata": {
    "colab": {
      "provenance": [],
      "authorship_tag": "ABX9TyM3C3by9++s5ouEGyioH+T5",
      "include_colab_link": true
    },
    "kernelspec": {
      "name": "python3",
      "display_name": "Python 3"
    },
    "language_info": {
      "name": "python"
    }
  },
  "cells": [
    {
      "cell_type": "markdown",
      "metadata": {
        "id": "view-in-github",
        "colab_type": "text"
      },
      "source": [
        "<a href=\"https://colab.research.google.com/github/guiraposo/GRpy/blob/main/TOV_in_python.ipynb\" target=\"_parent\"><img src=\"https://colab.research.google.com/assets/colab-badge.svg\" alt=\"Open In Colab\"/></a>"
      ]
    },
    {
      "cell_type": "code",
      "execution_count": null,
      "metadata": {
        "id": "LeTcKt0hdSDN"
      },
      "outputs": [],
      "source": [
        "!pip install sympy"
      ]
    },
    {
      "cell_type": "code",
      "source": [
        "import sympy as sp"
      ],
      "metadata": {
        "id": "V4aQ0Pq_hMi3"
      },
      "execution_count": 20,
      "outputs": []
    },
    {
      "cell_type": "code",
      "source": [
        "t, theta, phi= sp.symbols('t theta phi ')\n",
        "M, r = sp.symbols('M r', positive=True)\n",
        "\n",
        "A = sp.Function('A')(r)\n",
        "B = sp.Function('B')(r)\n",
        "g = sp.Matrix([[- A**2, 0, 0, 0],\n",
        "               [0, B**2, 0, 0],\n",
        "               [0, 0, r**2, 0],\n",
        "               [0, 0, 0, r**2 * sp.sin(theta)**2]])"
      ],
      "metadata": {
        "id": "1QgRWEV8hQhv"
      },
      "execution_count": 40,
      "outputs": []
    },
    {
      "cell_type": "code",
      "source": [
        "def christoffel_symbols(metric, coords):\n",
        "    dims = metric.shape[0]\n",
        "    christoffel = [[[0 for _ in range(dims)] for _ in range(dims)] for _ in range(dims)]\n",
        "    inv_metric = metric.inv()\n",
        "    for k in range(dims):\n",
        "        for i in range(dims):\n",
        "            for j in range(dims):\n",
        "                sum_term = 0\n",
        "                for l in range(dims):\n",
        "                    partial_1 = sp.simplify(sp.diff(metric[j, l], coords[i]))\n",
        "                    partial_2 = sp.simplify(sp.diff(metric[i, l], coords[j]))\n",
        "                    partial_3 = sp.simplify(sp.diff(metric[i, j], coords[l]))\n",
        "                    sum_term += inv_metric[k, l] * (partial_1 + partial_2 - partial_3)\n",
        "                christoffel[k][i][j] = sp.simplify(sum_term / 2)\n",
        "    return christoffel\n",
        "def riemann_tensor(christoffel, coords):\n",
        "    dims = len(coords)\n",
        "    R = [[[sp.zeros(dims, dims) for _ in range(dims)] for _ in range(dims)] for _ in range(dims)]\n",
        "    for rho in range(dims):\n",
        "        for sigma in range(dims):\n",
        "            for mu in range(dims):\n",
        "                for nu in range(dims):\n",
        "                    term1 = sp.simplify(sp.diff(christoffel[rho][nu][sigma], coords[mu]))\n",
        "                    term2 = sp.simplify(sp.diff(christoffel[rho][mu][sigma], coords[nu]))\n",
        "                    term3 = sp.simplify(sum(christoffel[rho][mu][lambda1] * christoffel[lambda1][nu][sigma] for lambda1 in range(dims)))\n",
        "                    term4 = sp.simplify(sum(christoffel[rho][nu][lambda1] * christoffel[lambda1][mu][sigma] for lambda1 in range(dims)))\n",
        "                    R[rho][sigma][mu][nu] = sp.simplify(term1 - term2 + term3 - term4)\n",
        "    return R\n",
        "def ricci_tensor(riemann, coords):\n",
        "    dims = len(coords)\n",
        "    ricci = sp.zeros(dims, dims)\n",
        "    for mu in range(dims):\n",
        "        for nu in range(dims):\n",
        "            ricci[mu, nu] = sp.simplify(sum(riemann[lambda1][mu][lambda1][nu] for lambda1 in range(dims)))\n",
        "    return ricci\n",
        "def ricci_scalar(ricci, metric):\n",
        "    inv_metric = metric.inv()\n",
        "    dims = metric.shape[0]\n",
        "    scalar = 0\n",
        "    for mu in range(dims):\n",
        "        for nu in range(dims):\n",
        "            scalar += sp.simplify(inv_metric[mu, nu] * ricci[mu, nu])\n",
        "    return sp.simplify(scalar)\n"
      ],
      "metadata": {
        "id": "U1NISJA7hV0n"
      },
      "execution_count": 101,
      "outputs": []
    },
    {
      "cell_type": "code",
      "source": [
        "coords = [t, r, theta, phi]  # Assuming these are your coordinates\n",
        "christoffel_symbols_g = christoffel_symbols(g, coords)\n",
        "riemann_tensor_g = riemann_tensor(christoffel_symbols_g, coords)\n",
        "ricci_tensor_g = ricci_tensor(riemann_tensor_g, coords)\n",
        "ricci_scalar_g = ricci_scalar(ricci_tensor_g, g)"
      ],
      "metadata": {
        "id": "TAgQClP3hYiR"
      },
      "execution_count": 102,
      "outputs": []
    },
    {
      "cell_type": "code",
      "source": [
        "A_test = sp.sqrt(1 - 2*M / r)\n",
        "B_test = sp.sqrt(1 - 2*M / r)**(-1)\n",
        "christoffel_symbols_substituted = [[[\n",
        "    sp.simplify(symbol.subs({A: A_test, B: B_test}))\n",
        "    for symbol in row]\n",
        "    for row in matrix]\n",
        "    for matrix in christoffel_symbols_g]\n"
      ],
      "metadata": {
        "id": "uQiZypSwj9oL"
      },
      "execution_count": 103,
      "outputs": []
    },
    {
      "cell_type": "code",
      "source": [
        "sp.simplify(sp.simplify(ricci_scalar_g.subs({A: A_test, B: B_test})))"
      ],
      "metadata": {
        "colab": {
          "base_uri": "https://localhost:8080/",
          "height": 37
        },
        "id": "bDhbmX83u_PQ",
        "outputId": "dfc88120-adb6-4c68-9d7b-31718f52948a"
      },
      "execution_count": 107,
      "outputs": [
        {
          "output_type": "execute_result",
          "data": {
            "text/plain": [
              "0"
            ],
            "text/latex": "$\\displaystyle 0$"
          },
          "metadata": {},
          "execution_count": 107
        }
      ]
    },
    {
      "cell_type": "code",
      "source": [],
      "metadata": {
        "id": "wlquRG0avHdF"
      },
      "execution_count": null,
      "outputs": []
    }
  ]
}